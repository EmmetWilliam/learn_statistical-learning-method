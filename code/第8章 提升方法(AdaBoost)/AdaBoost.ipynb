{
 "cells": [
  {
   "cell_type": "markdown",
   "metadata": {},
   "source": [
    "# 第8章 提升方法\n",
    "\n",
    "配置环境：python 3.6\n",
    "\n",
    "代码全部测试通过。\n",
    "\n",
    "代码参考 : https://github.com/wzyonggege/statistical-learning-method/blob/master/AdaBoost/Adaboost.ipynb\n",
    "\n",
    "此文档方便阅读，若需要复制粘贴可以在当前目录中查看`AdaBoost.py`"
   ]
  },
  {
   "cell_type": "code",
   "execution_count": 37,
   "metadata": {},
   "outputs": [],
   "source": [
    "import numpy as np\n",
    "import math\n",
    "import pandas as pd\n",
    "from sklearn.datasets import load_iris\n",
    "from sklearn.model_selection import train_test_split\n",
    "import matplotlib.pyplot as plt"
   ]
  },
  {
   "cell_type": "code",
   "execution_count": 58,
   "metadata": {},
   "outputs": [],
   "source": [
    "# 生成数据\n",
    "def create_data():\n",
    "    iris = load_iris()\n",
    "    df = pd.DataFrame(iris.data, columns=iris.feature_names)\n",
    "    df['label'] = iris.target\n",
    "    df.columns = ['sepal length', 'sepal width',\n",
    "                  'petal length', 'petal width', 'label']\n",
    "    data = np.array(df.iloc[:100, [0, 1, -1]])\n",
    "    for i in range(len(data)):\n",
    "        if data[i, -1] == 0:\n",
    "            data[i, -1] = -1\n",
    "    return data[:, :2], data[:, -1]"
   ]
  },
  {
   "cell_type": "code",
   "execution_count": 65,
   "metadata": {},
   "outputs": [
    {
     "data": {
      "text/plain": [
       "<matplotlib.collections.PathCollection at 0x7f62cef72a90>"
      ]
     },
     "execution_count": 65,
     "metadata": {},
     "output_type": "execute_result"
    },
    {
     "data": {
      "image/png": "[encoded data removed]",
      "text/plain": [
       "<Figure size 432x288 with 1 Axes>"
      ]
     },
     "metadata": {
      "needs_background": "light"
     },
     "output_type": "display_data"
    }
   ],
   "source": [
    "X, y = create_data()\n",
    "X_train, X_test, y_train, y_test = train_test_split(X, y, test_size=0.25)\n",
    "plt.scatter(X[:50, 0], X[:50, 1], label='0')\n",
    "plt.scatter(X[50:, 0], X[50:, 1], label='1')"
   ]
  },
  {
   "cell_type": "code",
   "execution_count": 68,
   "metadata": {},
   "outputs": [],
   "source": [
    "class AdaBoost():\n",
    "    def __init__(self, cls_num=100, lr=0.1):\n",
    "        self.cls_num = cls_num\n",
    "        self.lr = lr\n",
    "    \n",
    "    def load_data(self, X, y):\n",
    "        self.X = X\n",
    "        self.y = y\n",
    "\n",
    "    def init_args(self):\n",
    "        self.sample_num, self.feature_num = self.X.shape\n",
    "        self.alpha = [0] * self.cls_num\n",
    "        # 初始化权重 书上公式 算法 8.1 (1)\n",
    "        self.w = [1.0 / self.sample_num] * self.sample_num\n",
    "        # self.clf_sets[]\n",
    "        # 保存每一层的参数，(axis, v, direct)\n",
    "        # axis 是哪个特征比如 x0\n",
    "        # v 是阈值\n",
    "        # direct 在后面解释\n",
    "        self.clf_sets = []\n",
    "\n",
    "    def cal_error(self, x):\n",
    "        \"\"\"\n",
    "        计算分类误差率，并选取最合适的阈值\n",
    "\n",
    "        其中我们选择了阈值 v,但是不确定的是比阈值大的时候取 1 还是阈值小的时候取 1 \n",
    "        所以规定 direct 记录方向\n",
    "        \"\"\"\n",
    "        error, direct, g_array, best_v = float('inf'), '', None, 0.0\n",
    "        _min = min(x)\n",
    "        _max = max(x)\n",
    "        n_step = (_max - _min + self.lr) // self.lr\n",
    "\n",
    "        # 选取阈值\n",
    "        t_direct, t_error, t_array = None, None, None\n",
    "        for i in range(1, int(n_step)):\n",
    "            v = _min + i * self.lr\n",
    "            # 保证阈值不在 x 内\n",
    "            if v not in x:\n",
    "                # 生成比阈值大为 1 的预测数组\n",
    "                postive_array = [1 if x[k] > v else -1 for k in range(self.sample_num)]\n",
    "                # 计算误差\n",
    "                postive_error = sum([self.w[k] for k in range(self.sample_num) if postive_array[k] != self.y[k]])\n",
    "                \n",
    "                # 生成比阈值小为 -1 的预测数组\n",
    "                nagative_array = [-1 if x[k] > v else 1 for k in range(self.sample_num)]\n",
    "                nagative_error = sum([self.w[k] for k in range(self.sample_num) if nagative_array[k] != self.y[k]])\n",
    "                \n",
    "                # 比较谁的分类效果好\n",
    "                if postive_error < nagative_error:\n",
    "                    t_direct = 'postive'\n",
    "                    t_error = postive_error\n",
    "                    t_array = postive_array\n",
    "                else:\n",
    "                    t_direct = 'negative'\n",
    "                    t_error = nagative_error\n",
    "                    t_array = nagative_array\n",
    "                # 如果当前误差小于已保存的误差\n",
    "                # 则更新误差\n",
    "                if error > t_error:\n",
    "                    error, direct, g_array, best_v = t_error, t_direct, t_array, v\n",
    "        # 返回误差，方向，预测数组，阈值\n",
    "        return error, direct, g_array, best_v\n",
    "                    \n",
    "\n",
    "\n",
    "    # 计算 alpha\n",
    "    def cal_alpha(self, idx, error):\n",
    "        \"\"\"\n",
    "        书上公式 8.2\n",
    "        \"\"\"\n",
    "        self.alpha[idx] = (1/2)*math.log((1-error) / error)\n",
    "\n",
    "    # 计算 Z\n",
    "    def cal_Z(self, alpha, g_array):\n",
    "        \"\"\"\n",
    "        书上公式 8.5\n",
    "        \"\"\"\n",
    "        Z = 0.0\n",
    "        for i in range(self.sample_num):\n",
    "            exp = math.exp(-alpha * self.y[i] * g_array[i])\n",
    "            Z += self.w[i] * exp\n",
    "\n",
    "        return Z\n",
    "\n",
    "    # 更新权值\n",
    "    def update_w(self, alpha, Z, g_array):\n",
    "        \"\"\"\n",
    "        书上公式 140 最上面\n",
    "        \"\"\"\n",
    "        for i in range(self.sample_num):\n",
    "            if g_array[i] == self.y[i]:\n",
    "                self.w[i] = (self.w[i] / Z) * math.exp(-alpha)\n",
    "            else:\n",
    "                self.w[i] = (self.w[i] / Z) * math.exp(alpha)\n",
    "\n",
    "    # 根据每一层的参数，返回预测类别\n",
    "    def G(self, x, v, direct):\n",
    "        if direct == 'positive':\n",
    "            return 1 if x > v else -1 \n",
    "        else:\n",
    "            return -1 if x > v else 1 \n",
    "    \n",
    "    # 训练\n",
    "    def fit(self):\n",
    "        \n",
    "        for epoch in range(self.cls_num):\n",
    "            direct = 'positive'\n",
    "            axis = 0\n",
    "            min_error, best_v, g_array = float('inf'), 0, None\n",
    "            # 遍历所有特征，从所有的特征中找到阈值\n",
    "            for j in range(self.feature_num):\n",
    "                x = self.X[:, j]\n",
    "                # 寻找当前特征最好的阈值，以及最小的误差\n",
    "                error, temp_direct, temp_g_array, v = self.cal_error(x)\n",
    "                # 如果当前特征的误差小于已保存的误差\n",
    "                # 则更新误差\n",
    "                if error < min_error:\n",
    "                    best_v = v\n",
    "                    g_array = temp_g_array\n",
    "                    direct = temp_direct\n",
    "                    min_error = error\n",
    "                    axis = j\n",
    "                # 如果误差为 0 不用继续下去了\n",
    "                if min_error == 0:\n",
    "                    break\n",
    "            # 计算 alpha 书上公式 8.2   \n",
    "            self.cal_alpha(epoch, error)\n",
    "            # 计算 Z 书上公式 8.5\n",
    "            Z = self.cal_Z(self.alpha[epoch], g_array)\n",
    "            # 添加进弱分类器的数组集合\n",
    "            self.clf_sets.append((axis, best_v, direct))\n",
    "            # 更新 权重\n",
    "            self.update_w(self.alpha[epoch], Z, g_array)\n",
    "\n",
    "    def predict(self, feature):\n",
    "        result = 0.0\n",
    "        for i in range(len(self.clf_sets)):\n",
    "            axis, clf_v, direct = self.clf_sets[i]\n",
    "            f_input = feature[axis]\n",
    "            result += self.alpha[i] * self.G(f_input, clf_v, direct)\n",
    "        return 1 if result > 0 else -1\n",
    "\n",
    "    def score(self, X_test, y_test):\n",
    "        right_count = 0\n",
    "        for i in range(len(X_test)):\n",
    "            feature = X_test[i]\n",
    "            if self.predict(feature) == y_test[i]:\n",
    "                right_count += 1\n",
    "\n",
    "        return right_count / len(X_test)\n"
   ]
  },
  {
   "cell_type": "code",
   "execution_count": 69,
   "metadata": {
    "scrolled": true
   },
   "outputs": [
    {
     "name": "stdout",
     "output_type": "stream",
     "text": [
      "score 0.7466666666666667\n"
     ]
    }
   ],
   "source": [
    "ab = AdaBoost()\n",
    "ab.load_data(X_train, y_train)\n",
    "ab.init_args()\n",
    "ab.fit()\n",
    "\n",
    "print('score', ab.score(X_train, y_train))\n"
   ]
  },
  {
   "cell_type": "code",
   "execution_count": null,
   "metadata": {},
   "outputs": [],
   "source": []
  }
 ],
 "metadata": {
  "kernelspec": {
   "display_name": "Python 3",
   "language": "python",
   "name": "python3"
  },
  "language_info": {
   "codemirror_mode": {
    "name": "ipython",
    "version": 3
   },
   "file_extension": ".py",
   "mimetype": "text/x-python",
   "name": "python",
   "nbconvert_exporter": "python",
   "pygments_lexer": "ipython3",
   "version": "3.6.7"
  }
 },
 "nbformat": 4,
 "nbformat_minor": 2
}
