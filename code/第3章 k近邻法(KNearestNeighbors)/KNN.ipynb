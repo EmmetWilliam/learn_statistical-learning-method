{
 "cells": [
  {
   "cell_type": "markdown",
   "metadata": {},
   "source": [
    "# 第3章 k近邻法\n",
    "\n",
    "配置环境：python 3.6\n",
    "\n",
    "代码全部测试通过。\n",
    "\n",
    "此文档方便阅读讲解，若需要复制粘贴可以在当前目录中查看 `KNN.py`\n",
    "\n",
    "下面实现 **KdTree 以及基于 KdTree 的 KNN 算法**"
   ]
  },
  {
   "cell_type": "code",
   "execution_count": 7,
   "metadata": {},
   "outputs": [],
   "source": [
    "from utils import GeneraterData as GD\n",
    "from collections import namedtuple\n",
    "import numpy as np"
   ]
  },
  {
   "cell_type": "code",
   "execution_count": 8,
   "metadata": {},
   "outputs": [],
   "source": [
    "# KdTree 的节点 \n",
    "class KdNode:\n",
    "    def __init__(self, axis, point, left, right):\n",
    "        \"\"\"\n",
    "        :param axis 决定这个节点以哪一个轴进行分类\n",
    "        :param point 保存这个节点的值\n",
    "        :param left 左节点\n",
    "        :param right 右节点\n",
    "        \"\"\"\n",
    "        self.axis = axis\n",
    "        self.point = point\n",
    "        self.left = left\n",
    "        self.right = right"
   ]
  },
  {
   "cell_type": "code",
   "execution_count": 9,
   "metadata": {},
   "outputs": [],
   "source": [
    "# KdTree 类\n",
    "class KdTree:\n",
    "    def load_data(self, data):\n",
    "        # 加载数据\n",
    "        self.data = data\n",
    "        \n",
    "    def init_args(self):\n",
    "        \"\"\"\n",
    "        通过递归的方法创建 KdTree\n",
    "        \"\"\"\n",
    "        data = self.data\n",
    "        # k 表示数据的维度 \n",
    "        k = len(data[0])\n",
    "        # node_num 记录数据集的长度\n",
    "        self.node_num = len(data)\n",
    "        # 递归创建节点\n",
    "        def create_node(axis, data_set):\n",
    "            # 递归终止条件，数据结构为空，这一层递归返回，也就是说叶节点的再往下的时候，得到节点为 None\n",
    "            if not data_set:\n",
    "                return None\n",
    "            # 排序取中点\n",
    "            data_set.sort(key=lambda x: x[axis])\n",
    "            point_pos = len(data_set) // 2\n",
    "            point_media = data_set[point_pos]\n",
    "            # 取余数使 axis 始终在 [0, k] 之间\n",
    "            next_axis = (axis + 1) % k\n",
    "            # 递归创建节点\n",
    "            return KdNode(axis, point_media, \n",
    "                        create_node(next_axis, data_set[0:point_pos]),\n",
    "                        create_node(next_axis, data_set[point_pos+1:]))\n",
    "        # 根节点\n",
    "        self.root = create_node(0, data)\n",
    "        \n",
    "    # 前序遍历树\n",
    "    def pre_order(self, ele):\n",
    "        if not ele:\n",
    "            return \n",
    "        self.pre_order(ele.left)\n",
    "        print(ele.point)\n",
    "        self.pre_order(ele.right)"
   ]
  },
  {
   "cell_type": "code",
   "execution_count": 12,
   "metadata": {},
   "outputs": [
    {
     "name": "stdout",
     "output_type": "stream",
     "text": [
      "[37, 79]\n",
      "[72, 144]\n",
      "[133, 71]\n",
      "[137, 129]\n",
      "[140, 192]\n"
     ]
    }
   ],
   "source": [
    "gd = GD()\n",
    "# 得到一系列的点,写在了 utils 里面。最后会把点的数据调大\n",
    "data = gd.ser_point(num=5)\n",
    "# 创建 kdtree\n",
    "kd = KdTree()\n",
    "kd.load_data(data)\n",
    "kd.init_args()\n",
    "kd.pre_order(kd.root)"
   ]
  },
  {
   "cell_type": "code",
   "execution_count": 13,
   "metadata": {},
   "outputs": [],
   "source": [
    "# 计算两点之间的距离\n",
    "def compute_dist(l1, l2):\n",
    "    # 兼容数组和 np.array\n",
    "    try:\n",
    "        return np.linalg.norm(l1 - l2)\n",
    "    except:\n",
    "        return np.linalg.norm(np.array(l1) - np.array(l2))"
   ]
  },
  {
   "cell_type": "code",
   "execution_count": 14,
   "metadata": {},
   "outputs": [
    {
     "data": {
      "text/plain": [
       "4.69041575982343"
      ]
     },
     "execution_count": 14,
     "metadata": {},
     "output_type": "execute_result"
    }
   ],
   "source": [
    "l1, l2 = [1, 2, 4], [4, 5, 6]\n",
    "compute_dist(l1, l2)"
   ]
  },
  {
   "cell_type": "code",
   "execution_count": 15,
   "metadata": {},
   "outputs": [],
   "source": [
    "class KNN:\n",
    "    def __init__(self, kdtree, point):\n",
    "        \"\"\"\n",
    "        :param kdtree 已加载好数据的 kdtree\n",
    "        :param point 目标点\n",
    "        \"\"\"\n",
    "        self.kdtree = kdtree\n",
    "        self.point = point\n",
    "\n",
    "    \n",
    "    def add_node(self, point, num=-1):\n",
    "        \"\"\"\n",
    "        :param num \n",
    "        如果要求的最近点的数目大于已有最近点的数目，则直接向最近点中加入这个点，此时 num = -1\n",
    "        如果要求的最近点的数目已经满足已有最近点的数目，则与距离最远的比较，距离比他大就不变，比他小就替换掉\n",
    "        \"\"\"\n",
    "        # 给 tupple 取名字。比如_Result((1, 2)) 输出_Result(dist=1, point=2)\n",
    "        _Result = namedtuple('_Result', 'dist point')\n",
    "        # 计算距离\n",
    "        dist = compute_dist(self.point, point)\n",
    "        # 组成点和距离的 tupple \n",
    "        r = _Result(dist, point)\n",
    "        # 加入这个点\n",
    "        self.close_nodes.append(r)\n",
    "        # 排序\n",
    "        self.close_nodes.sort(key=lambda x : x.dist)\n",
    "        \n",
    "        # 判断这个点的是否进入最近点集合中\n",
    "        if num == -1:\n",
    "            return \n",
    "        else:\n",
    "            self.close_nodes = self.close_nodes[:num]\n",
    "        \n",
    "\n",
    "    def find_nearest_with_num(self, num=1):\n",
    "        if num > self.kdtree.node_num:\n",
    "            print('要找的节点数目，大于树节点的数目')\n",
    "            return\n",
    "        self.close_nodes = []\n",
    "        k = len(self.point)\n",
    "        target_point = self.point\n",
    "        def travel(current):\n",
    "            if not current:\n",
    "                # 如果当前点是 None\n",
    "                return\n",
    "            axis = current.axis\n",
    "            current_point = current.point\n",
    "            # 选择更近的一个点\n",
    "            near_point, far_point = [current.left, current.right] if target_point[\n",
    "                axis] <= current_point[axis] else [current.right, current.left]\n",
    "\n",
    "            travel(near_point)\n",
    "            # 递归遍历回归以后\n",
    "            if len(self.close_nodes) < num:\n",
    "                self.add_node(current_point)\n",
    "            else:\n",
    "                # 检查当前节点及远边节点满不满足加入的条件\n",
    "                max_dist = self.close_nodes[num-1].dist\n",
    "                # 这里算的是垂直轴的距离，如果最远点比这个垂直轴的距离还要小，那么当前点和另一边的点\n",
    "                # 一定更远\n",
    "                if max_dist <= abs(current_point[axis] - target_point[axis]):\n",
    "                    return\n",
    "                \n",
    "                self.add_node(current_point, num)\n",
    "                travel(far_point)\n",
    "        # 遍历根节点\n",
    "        travel(self.kdtree.root)\n",
    "        return self.close_nodes "
   ]
  },
  {
   "cell_type": "code",
   "execution_count": 18,
   "metadata": {},
   "outputs": [
    {
     "name": "stdout",
     "output_type": "stream",
     "text": [
      "[_Result(dist=0.0, point=[141, 115]), _Result(dist=7.211102550927978, point=[137, 121]), _Result(dist=20.0, point=[141, 135])]\n",
      "[0.0, 7.211102550927978, 20.0]\n"
     ]
    }
   ],
   "source": [
    "# 创建 100 个点\n",
    "data = gd.ser_point(num=100)\n",
    "# 创建 KdTree\n",
    "kd = KdTree()\n",
    "kd.load_data(data)\n",
    "kd.init_args()\n",
    "# 选择一个点\n",
    "point = [141, 115]\n",
    "# 创建 KNN\n",
    "knn = KNN(kd, point)\n",
    "# 找最近的 3 个点\n",
    "r = knn.find_nearest_with_num(num=3)\n",
    "# 用\n",
    "test_a = []\n",
    "for i in range(100):\n",
    "    dist = compute_dist(point, data[i])\n",
    "    test_a.append(dist)\n",
    "test_a.sort()\n",
    "print(r)\n",
    "print(test_a[0:3])"
   ]
  },
  {
   "cell_type": "code",
   "execution_count": null,
   "metadata": {},
   "outputs": [],
   "source": []
  }
 ],
 "metadata": {
  "kernelspec": {
   "display_name": "Python 3",
   "language": "python",
   "name": "python3"
  },
  "language_info": {
   "codemirror_mode": {
    "name": "ipython",
    "version": 3
   },
   "file_extension": ".py",
   "mimetype": "text/x-python",
   "name": "python",
   "nbconvert_exporter": "python",
   "pygments_lexer": "ipython3",
   "version": "3.6.7"
  }
 },
 "nbformat": 4,
 "nbformat_minor": 2
}
