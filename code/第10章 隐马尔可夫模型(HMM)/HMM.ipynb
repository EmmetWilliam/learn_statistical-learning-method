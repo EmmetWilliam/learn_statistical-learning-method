{
 "cells": [
  {
   "cell_type": "markdown",
   "metadata": {},
   "source": [
    "# 第10章 隐马尔可夫模型\n",
    "\n",
    "配置环境：python 3.6\n",
    "\n",
    "代码全部测试通过。\n",
    "\n",
    "代码参考 : https://github.com/fengdu78/lihang-code/blob/master/code/%E7%AC%AC10%E7%AB%A0%20%E9%9A%90%E9%A9%AC%E5%B0%94%E5%8F%AF%E5%A4%AB%E6%A8%A1%E5%9E%8B(HMM)/HMM.ipynb\n",
    "\n",
    "此文档方便阅读，若需要复制粘贴可以在当前目录中查看`HMM.py`"
   ]
  },
  {
   "cell_type": "code",
   "execution_count": 1,
   "metadata": {},
   "outputs": [],
   "source": [
    "import numpy as np"
   ]
  },
  {
   "cell_type": "code",
   "execution_count": 4,
   "metadata": {},
   "outputs": [],
   "source": [
    "# 完成 书上例题 10.2\n",
    "# 定义 HMM 类\n",
    "class HMM:\n",
    "    def __init__(self):\n",
    "        self.Q = []\n",
    "        self.V = []\n",
    "        self.A = []\n",
    "        self.B = []\n",
    "        self.O = []\n",
    "        self.pi = []\n",
    "        \n",
    "    def init_args(self, paras):\n",
    "        \"\"\"\n",
    "        :param paras\n",
    "        paras = {\n",
    "            'Q': [1, 2, 3],                \n",
    "            'V': ['红', '白'],\n",
    "            'A': [[0.5, 0.2, 0.3], [0.3, 0.5, 0.2], [0.2, 0.3, 0.5]],\n",
    "            'B': [[0.5, 0.5], [0.4, 0.6], [0.7, 0.3]],\n",
    "            'O': ['红', '白', '红', '白'],  # 习题10.1的例子\n",
    "            'pi': [[0.2, 0.4, 0.4]],\n",
    "        }\n",
    "        Q 是有几个隐藏状态\n",
    "        O 是已观测状态的序列\n",
    "        V 是观测状态的集合\n",
    "        A 是状态转移概率矩阵\n",
    "        B 是观测概率矩阵\n",
    "        pi 是初始状态概率\n",
    "        \"\"\"\n",
    "        # 遍历字典\n",
    "        for key, value in paras.items():\n",
    "            setattr(self, key, value)\n",
    "    \n",
    "    # 重新设置参数\n",
    "    def reset_args(self, paras):\n",
    "        self.init_args(paras)\n",
    "\n",
    "    def forward(self):\n",
    "        # 结果保存，最后求和\n",
    "        result = [0.0] * len(self.Q)\n",
    "        # 用来保存中间值\n",
    "        last_result = None\n",
    "        for t in range(len(self.O)):\n",
    "            # 找到当前观测值的索引\n",
    "            v = self.O[t]\n",
    "            idx = self.V.index(v)\n",
    "            # 开始前向算法\n",
    "            for i in range(len(self.Q)):\n",
    "                # 初值\n",
    "                if t == 0:\n",
    "                    # 公式 10.15\n",
    "                    # print('idx, i', idx, i, self.B[0][0], self.pi[i])\n",
    "                    result[i] = self.pi[i] * self.B[i][idx]\n",
    "                    print(f'初值 alpha({i}) {result[i]}')\n",
    "                else:\n",
    "                    # 递推公式 10.16\n",
    "                    # 计算公式中大括号那一部分\n",
    "                    _sum = sum([ item * self.A[j][i] for j, item in enumerate(last_result)])\n",
    "                    result[i] = _sum * self.B[i][idx]\n",
    "                    print(f'alpha({i}) {result[i]}')\n",
    "\n",
    "            \n",
    "            # 保存这一层的递推\n",
    "            last_result = result.copy()\n",
    "        print('forward done!')\n",
    "        return sum(result)"
   ]
  },
  {
   "cell_type": "code",
   "execution_count": 5,
   "metadata": {},
   "outputs": [
    {
     "name": "stdout",
     "output_type": "stream",
     "text": [
      "初值 alpha(0) 0.1\n",
      "初值 alpha(1) 0.16000000000000003\n",
      "初值 alpha(2) 0.27999999999999997\n",
      "alpha(0) 0.077\n",
      "alpha(1) 0.1104\n",
      "alpha(2) 0.060599999999999994\n",
      "alpha(0) 0.04186999999999999\n",
      "alpha(1) 0.035512\n",
      "alpha(2) 0.052835999999999994\n",
      "forward done!\n",
      "sum 0.130218\n"
     ]
    }
   ],
   "source": [
    "paras = {\n",
    "    'Q': [1, 2, 3],\n",
    "    'V': ['红', '白'],\n",
    "    'A': [[0.5, 0.2, 0.3], [0.3, 0.5, 0.2], [0.2, 0.3, 0.5]],\n",
    "    'B': [[0.5, 0.5], [0.4, 0.6], [0.7, 0.3]],\n",
    "    'O': ['红', '白', '红'],  # 习题10.2的例子\n",
    "    'pi': [0.2, 0.4, 0.4],\n",
    "}\n",
    "\n",
    "hmm = HMM()\n",
    "hmm.init_args(paras)\n",
    "print('sum', hmm.forward())"
   ]
  },
  {
   "cell_type": "code",
   "execution_count": null,
   "metadata": {},
   "outputs": [],
   "source": []
  }
 ],
 "metadata": {
  "kernelspec": {
   "display_name": "Python 3",
   "language": "python",
   "name": "python3"
  },
  "language_info": {
   "codemirror_mode": {
    "name": "ipython",
    "version": 3
   },
   "file_extension": ".py",
   "mimetype": "text/x-python",
   "name": "python",
   "nbconvert_exporter": "python",
   "pygments_lexer": "ipython3",
   "version": "3.6.7"
  }
 },
 "nbformat": 4,
 "nbformat_minor": 2
}
