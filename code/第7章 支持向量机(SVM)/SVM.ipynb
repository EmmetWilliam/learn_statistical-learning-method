{
 "cells": [
  {
   "cell_type": "markdown",
   "metadata": {},
   "source": [
    "# 第7章 支持向量机\n",
    "\n",
    "配置环境：python 3.6\n",
    "\n",
    "代码全部测试通过。\n",
    "\n",
    "代码参考 : https://github.com/wzyonggege/statistical-learning-method/blob/master/SVM/support-vector-machine.ipynb\n",
    "\n",
    "此文档方便阅读讲解，若需要复制粘贴可以在当前目录中查看`SVM.py`\n",
    "\n",
    "**这一章到后面的 SMO 算法还是很难的，我手推了一下才艰难弄懂个大概**\n"
   ]
  },
  {
   "cell_type": "code",
   "execution_count": 1,
   "metadata": {},
   "outputs": [],
   "source": [
    "import numpy as np\n",
    "import pandas as pd\n",
    "from sklearn.datasets import load_iris\n",
    "from sklearn.model_selection import train_test_split\n",
    "import matplotlib.pyplot as plt"
   ]
  },
  {
   "cell_type": "code",
   "execution_count": 2,
   "metadata": {},
   "outputs": [],
   "source": [
    "# 产生数据\n",
    "def create_data():\n",
    "    iris = load_iris()\n",
    "    df = pd.DataFrame(iris.data, columns=iris.feature_names)\n",
    "    df['label'] = iris.target\n",
    "    df.columns = ['sepal length', 'sepal width',\n",
    "                  'petal length', 'petal width', 'label']\n",
    "    data = np.array(df.iloc[:100, [0, 1, -1]])\n",
    "    for i in range(len(data)):\n",
    "        if data[i, -1] == 0:\n",
    "            data[i, -1] = -1\n",
    "    return data[:, :2], data[:, -1]"
   ]
  },
  {
   "cell_type": "code",
   "execution_count": 3,
   "metadata": {},
   "outputs": [
    {
     "data": {
      "text/plain": [
       "<matplotlib.collections.PathCollection at 0x7f156667c160>"
      ]
     },
     "execution_count": 3,
     "metadata": {},
     "output_type": "execute_result"
    },
    {
     "data": {
      "image/png": "[encoded data removed]",
      "text/plain": [
       "<Figure size 432x288 with 1 Axes>"
      ]
     },
     "metadata": {
      "needs_background": "light"
     },
     "output_type": "display_data"
    }
   ],
   "source": [
    "X, y = create_data()\n",
    "X_train, X_test, y_train, y_test = train_test_split(X, y, test_size=0.25)\n",
    "plt.scatter(X[:50, 0], X[:50, 1], label='0')\n",
    "plt.scatter(X[50:, 0], X[50:, 1], label='1')"
   ]
  },
  {
   "cell_type": "code",
   "execution_count": 4,
   "metadata": {},
   "outputs": [],
   "source": [
    "class SVM():\n",
    "    # 加载数据\n",
    "    def load_data(self, X, y):\n",
    "        self.X = X\n",
    "        self.y = y\n",
    "\n",
    "    def kernel(self, x1, x2):\n",
    "        \"\"\"\n",
    "        :param x1 [1, 2, 4]\n",
    "        :param x2 [4, 5, 6]\n",
    "        计算核函数\n",
    "        如果是最普通的线性核函数\n",
    "        x1 与 x2 内积，最直观的解释就是，对应元素相乘求和。1*4 + 2*5 + 4*6\n",
    "        \"\"\"\n",
    "        if self.kernel_type == 'linear':\n",
    "            return sum([x1[k]*x2[k] for k in range(self.features_len)])\n",
    "        # 其他类型的核函数\n",
    "        # 书上公式 7.88\n",
    "        elif self.kernel_type == 'poly':\n",
    "            return (sum([x1[k]*x2[k] for k in range(self.features_len)]) + 1)**2\n",
    "\n",
    "        return 0\n",
    "\n",
    "    def g(self, idx):\n",
    "        \"\"\"\n",
    "        书上公式 7.104\n",
    "        \"\"\"\n",
    "        r = self.b\n",
    "        for j in range(self.samples_len):\n",
    "            r += self.alpha[j]*self.y[j]*self.kernel(self.X[idx], self.X[j])\n",
    "        return r\n",
    "\n",
    "\n",
    "    def compute_E(self, idx):\n",
    "        \"\"\"\n",
    "        书上公式 7.105\n",
    "        \"\"\"\n",
    "        return self.g(idx) - self.y[idx]\n",
    "\n",
    "    def KKT(self, idx):\n",
    "        \"\"\"\n",
    "        判断是否满足 KKT 条件\n",
    "        \"\"\"\n",
    "        t = self.y[idx]*self.g(idx)\n",
    "        # 公式 7.111\n",
    "        if self.alpha[idx] == 0:\n",
    "            return t >= 1\n",
    "        # 公式 7.112\n",
    "        elif 0 < self.alpha[idx] < self.C:\n",
    "            return t == 1\n",
    "        # 公式 7.113\n",
    "        else:\n",
    "            return t <= 1\n",
    "    \n",
    "    # 初始化参数\n",
    "    def init_args(self, kernel_type='linear', c=0.0001):\n",
    "        self.samples_len, self.features_len = self.X.shape\n",
    "        self.b = 0.0\n",
    "        self.kernel_type = kernel_type \n",
    "        self.alpha = np.zeros(self.samples_len)\n",
    "        self.E = [self.compute_E(i) for i in range(self.samples_len)]\n",
    "        # 松弛变量，通过调节松弛变量可以提高准确率\n",
    "        self.C = c\n",
    "\n",
    "    def init_alpha(self):\n",
    "        # 寻找所有属于 (0, C) 变量的点\n",
    "        l1 = [i for i in range(self.samples_len) if 0 < self.alpha[i] < self.C]\n",
    "        # 否则遍历所有点\n",
    "        l2 = [i for i in range(self.samples_len) if i not in l1]\n",
    "        # 合并两个数组\n",
    "        l1.extend(l2)\n",
    "\n",
    "        for i in l1:\n",
    "            # 书上说，要选择最严重的。这里图简单就没有用最严重违反 KKT 条件的\n",
    "            # 选择第一个违反 KKT 条件\n",
    "            if self.KKT(i):\n",
    "                continue\n",
    "            # 书 129 页，第二个变量的选择\n",
    "            E = self.E[i]\n",
    "            if E > 0:\n",
    "                j = min(range(self.samples_len), key=lambda x: self.E[x])\n",
    "            else:\n",
    "                j = max(range(self.samples_len), key=lambda x: self.E[x])\n",
    "\n",
    "            return i, j\n",
    "        \n",
    "    def compare(self, alpha, L, H):\n",
    "        \"\"\"\n",
    "        将新的 alpha 限制在 [L, H] 中\n",
    "        如果比 H 大取 H\n",
    "        如果比 L 小取 L\n",
    "        如果在 [L, H] 之间, 取本身\n",
    "        书上公式 7.108\n",
    "        \"\"\"\n",
    "        if alpha < L:\n",
    "            return L\n",
    "        elif alpha > H:\n",
    "            return H\n",
    "        else:\n",
    "            return alpha\n",
    "\n",
    "    def train(self, max_iters=100):\n",
    "        for t in range(max_iters):\n",
    "            # 选择两个变量,书上 128 变量的选择方式 \n",
    "            i1, i2 = self.init_alpha()\n",
    "            # 计算边界 由 old 值计算\n",
    "            if self.y[i1] == self.y[i2]:\n",
    "                # 书上公式 126 页最下面两个公式的第二个\n",
    "                L = max(0, self.alpha[i1]+self.alpha[i2] - self.C)\n",
    "                H = min(self.C, self.alpha[i1]+self.alpha[i2])\n",
    "            else:\n",
    "                # 书上公式 126 页最下面两个公式的第一个\n",
    "                L = max(0, self.alpha[i2]-self.alpha[i1])\n",
    "                H = min(self.C, self.C + self.alpha[i2]-self.alpha[i1])\n",
    "\n",
    "            E1 = self.E[i1]\n",
    "            E2 = self.E[i2]\n",
    "            # 书上公式 7.107\n",
    "            eta = self.kernel(self.X[i1], self.X[i1]) + self.kernel(\n",
    "                self.X[i2], self.X[i2]) - 2*self.kernel(self.X[i1], self.X[i2])\n",
    "\n",
    "            if eta <= 0:\n",
    "                continue\n",
    "\n",
    "            # 计算新的未修剪的 alpha2\n",
    "            alpha2_new_unc = self.alpha[i2] + self.y[i2] * (E1 - E2) / eta\n",
    "            # 修剪的 alpha2 书上公式 7.108\n",
    "            alpha2_new = self.compare(alpha2_new_unc, L, H)\n",
    "            # 计算 alpha1  书上公式 7.109\n",
    "            alpha1_new = self.alpha[i1] + self.y[i1] * \\\n",
    "                self.y[i2] * (self.alpha[i2] - alpha2_new)\n",
    "            # 书上公式 7.114 7.115 7.116\n",
    "            b1_new = -E1 - self.y[i1] * self.kernel(self.X[i1], self.X[i1]) * (\n",
    "                alpha1_new-self.alpha[i1]) - self.y[i2] * self.kernel(self.X[i2], self.X[i1]) * (alpha2_new-self.alpha[i2]) + self.b\n",
    "            b2_new = -E2 - self.y[i1] * self.kernel(self.X[i1], self.X[i2]) * (\n",
    "                alpha1_new-self.alpha[i1]) - self.y[i2] * self.kernel(self.X[i2], self.X[i2]) * (alpha2_new-self.alpha[i2]) + self.b\n",
    "\n",
    "            if 0 < alpha1_new < self.C:\n",
    "                b_new = b1_new\n",
    "            elif 0 < alpha2_new < self.C:\n",
    "                b_new = b2_new\n",
    "            else:\n",
    "                # 选择中点\n",
    "                b_new = (b1_new + b2_new) / 2\n",
    "\n",
    "            # 更新参数\n",
    "            self.alpha[i1] = alpha1_new\n",
    "            self.alpha[i2] = alpha2_new\n",
    "            self.b = b_new\n",
    "            # 书上公式 7.117\n",
    "            self.E[i1] = self.compute_E(i1)\n",
    "            self.E[i2] = self.compute_E(i2)\n",
    "        \n",
    "        print('train done!')\n",
    "\n",
    "    def predict(self, x):\n",
    "        \"\"\"\n",
    "        预测类别\n",
    "        g(x) 书上公式 7.104\n",
    "        如果大于 0 预测 1\n",
    "        小于 0 预测 -1\n",
    "        \"\"\"\n",
    "        r = self.b\n",
    "        for i in range(self.samples_len):\n",
    "            r += self.alpha[i] * self.y[i] * self.kernel(x, self.X[i])\n",
    "\n",
    "        return 1 if r > 0 else -1\n",
    "\n",
    "    def score(self, X_test, y_test):\n",
    "        \"\"\"\n",
    "        通过计算 预测值正确数目/总样本数目 算出得分\n",
    "        \"\"\"\n",
    "        r = 0\n",
    "        for i in range(len(X_test)):\n",
    "            x = X_test[i]\n",
    "            result = self.predict(x)\n",
    "            if result == y_test[i]:\n",
    "                r += 1\n",
    "        return r / len(X_test)\n",
    "\n",
    "    def weight(self):\n",
    "        \"\"\"\n",
    "        计算权值\n",
    "        \"\"\"\n",
    "        yx = self.y.reshape(-1, 1)*self.X\n",
    "        self.w = np.dot(yx.T, self.alpha)\n",
    "        return self.w"
   ]
  },
  {
   "cell_type": "code",
   "execution_count": 9,
   "metadata": {},
   "outputs": [
    {
     "name": "stdout",
     "output_type": "stream",
     "text": [
      "train done!\n",
      "score 1.0\n"
     ]
    }
   ],
   "source": [
    "svm = SVM()\n",
    "svm.load_data(X_train, y_train)\n",
    "svm.init_args()\n",
    "svm.train(200)\n",
    "\n",
    "score = svm.score(X_test, y_test)\n",
    "\n",
    "print('score', score)"
   ]
  },
  {
   "cell_type": "code",
   "execution_count": 10,
   "metadata": {},
   "outputs": [
    {
     "data": {
      "image/png": "[encoded data removed]",
      "text/plain": [
       "<Figure size 432x288 with 1 Axes>"
      ]
     },
     "metadata": {
      "needs_background": "light"
     },
     "output_type": "display_data"
    }
   ],
   "source": [
    "# 画点\n",
    "plt.scatter(X[:50, 0], X[:50, 1], label='0')\n",
    "plt.scatter(X[50:, 0], X[50:, 1], label='1')\n",
    "# 计算权值\n",
    "a1, a2 = svm.weight()\n",
    "b = svm.b\n",
    "x_min = min(svm.X, key=lambda x: x[0])[0]\n",
    "x_max = max(svm.X, key=lambda x: x[0])[0]\n",
    "\n",
    "y1, y2 = (-b - a1 * x_min)/a2, (-b - a1 * x_max)/a2\n",
    "plt.plot([x_min, x_max], [y1, y2])\n",
    "plt.show()"
   ]
  },
  {
   "cell_type": "code",
   "execution_count": null,
   "metadata": {},
   "outputs": [],
   "source": []
  }
 ],
 "metadata": {
  "kernelspec": {
   "display_name": "Python 3",
   "language": "python",
   "name": "python3"
  },
  "language_info": {
   "codemirror_mode": {
    "name": "ipython",
    "version": 3
   },
   "file_extension": ".py",
   "mimetype": "text/x-python",
   "name": "python",
   "nbconvert_exporter": "python",
   "pygments_lexer": "ipython3",
   "version": "3.6.7"
  }
 },
 "nbformat": 4,
 "nbformat_minor": 2
}
