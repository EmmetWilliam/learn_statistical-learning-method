{
 "cells": [
  {
   "cell_type": "markdown",
   "metadata": {},
   "source": [
    "# 第6章 逻辑斯谛回归\n",
    "\n",
    "配置环境：python 3.6\n",
    "\n",
    "代码全部测试通过。\n",
    "\n",
    "代码参考 : https://github.com/wzyonggege/statistical-learning-method/blob/master/LogisticRegression/LR.ipynb\n",
    "\n",
    "此文档方便阅读，若需要复制粘贴可以在当前目录中查看`LR.py`"
   ]
  },
  {
   "cell_type": "code",
   "execution_count": 83,
   "metadata": {},
   "outputs": [],
   "source": [
    "from math import exp\n",
    "import numpy as np\n",
    "import pandas as pd\n",
    "import matplotlib.pyplot as plt\n",
    "\n",
    "from sklearn.datasets import load_iris\n",
    "from sklearn.model_selection import train_test_split"
   ]
  },
  {
   "cell_type": "code",
   "execution_count": 84,
   "metadata": {},
   "outputs": [],
   "source": [
    "# 创建数据\n",
    "def create_data():\n",
    "    iris = load_iris()\n",
    "    df = pd.DataFrame(iris.data, columns=iris.feature_names)\n",
    "    df['label'] = iris.target\n",
    "    df.columns = ['sepal length', 'sepal width', 'petal length', 'petal width', 'label']\n",
    "    data = np.array(df.iloc[:100, [0,1,-1]])\n",
    "    # print(data)\n",
    "    return data[:,:2], data[:,-1]"
   ]
  },
  {
   "cell_type": "code",
   "execution_count": 85,
   "metadata": {},
   "outputs": [
    {
     "data": {
      "text/plain": [
       "<matplotlib.legend.Legend at 0x7fa3f604bbe0>"
      ]
     },
     "execution_count": 85,
     "metadata": {},
     "output_type": "execute_result"
    },
    {
     "data": {
      "image/png": "[encoded data removed]",
      "text/plain": [
       "<Figure size 432x288 with 1 Axes>"
      ]
     },
     "metadata": {
      "needs_background": "light"
     },
     "output_type": "display_data"
    }
   ],
   "source": [
    "X, y = create_data()\n",
    "X_train, X_test, y_train, y_test = train_test_split(X, y, test_size=0.3)\n",
    "\n",
    "plt.scatter(X[:50,0],X[:50,1], label='0')\n",
    "plt.scatter(X[50:,0],X[50:,1], label='1')\n",
    "plt.legend()"
   ]
  },
  {
   "cell_type": "code",
   "execution_count": 86,
   "metadata": {},
   "outputs": [],
   "source": [
    "class LR:\n",
    "    \n",
    "    @staticmethod\n",
    "    def sigmoid(x):\n",
    "        return 1 / (1 + np.exp(-x))\n",
    "\n",
    "    def load_data(self, X, y):\n",
    "        self.X = X\n",
    "        self.y = y.reshape((len(y), 1))\n",
    "\n",
    "    def init_args(self):\n",
    "        \"\"\"\n",
    "        初始化参数\n",
    "        \n",
    "        权重\n",
    "        X 矩阵\n",
    "        学习率\n",
    "        迭代次数\n",
    "        \"\"\"\n",
    "        self.X_matrix = []\n",
    "        for x in self.X:\n",
    "            self.X_matrix.append([1.0, *x])\n",
    "        self.w = np.zeros((len(self.X_matrix[0]), 1))\n",
    "        self.X_matrix = np.array(self.X_matrix)\n",
    "        self.max_iters = 200\n",
    "        self.lr = 0.01\n",
    "        \n",
    "    def train(self, lr=0.01, max_iters=200):\n",
    "        self.lr = lr if lr else self.lr\n",
    "        self.max_iters = max_iters if max_iters else self.max_iters \n",
    "        \n",
    "        for t in range(self.max_iters):\n",
    "            result = self.sigmoid(np.dot(self.X_matrix, self.w))\n",
    "            # 误差\n",
    "            error = self.y - result\n",
    "            # 使用向量化的方法更新参数\n",
    "            self.w += np.sum(self.lr * error * self.X_matrix, axis=0).reshape((3, 1))\n",
    "        print('train done!')\n",
    "        \n",
    "        \n",
    "    def score(self, X, y):\n",
    "        X_matrix = []\n",
    "        for x in X:\n",
    "            X_matrix.append([1.0, *x])\n",
    "        X = np.array(X_matrix)\n",
    "        y = np.array(y)\n",
    "        predict_y = self.sigmoid(np.dot(X, self.w))\n",
    "        predict_y = [1 if i > 0.5 else 0 for i in predict_y]\n",
    "        \n",
    "        \n",
    "        result = [1 if p == r else 0 for (p, r) in zip(predict_y, y)]\n",
    "        \n",
    "        return sum(result) / len(y)\n",
    "        "
   ]
  },
  {
   "cell_type": "code",
   "execution_count": 87,
   "metadata": {},
   "outputs": [
    {
     "name": "stdout",
     "output_type": "stream",
     "text": [
      "train done!\n",
      "分类结果 1.0\n"
     ]
    }
   ],
   "source": [
    "lr_cls = LR()\n",
    "lr_cls.load_data(X_train, y_train)\n",
    "lr_cls.init_args()\n",
    "lr_cls.train()\n",
    "\n",
    "result = lr_cls.score(X_test, y_test)\n",
    "print('分类结果', result)"
   ]
  },
  {
   "cell_type": "code",
   "execution_count": null,
   "metadata": {},
   "outputs": [],
   "source": []
  }
 ],
 "metadata": {
  "kernelspec": {
   "display_name": "Python 3",
   "language": "python",
   "name": "python3"
  },
  "language_info": {
   "codemirror_mode": {
    "name": "ipython",
    "version": 3
   },
   "file_extension": ".py",
   "mimetype": "text/x-python",
   "name": "python",
   "nbconvert_exporter": "python",
   "pygments_lexer": "ipython3",
   "version": "3.6.7"
  }
 },
 "nbformat": 4,
 "nbformat_minor": 2
}
