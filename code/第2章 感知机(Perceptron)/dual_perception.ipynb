{
 "cells": [
  {
   "cell_type": "markdown",
   "metadata": {},
   "source": [
    "# 第2章 感知机\n",
    "\n",
    "配置环境：python 3.6\n",
    "\n",
    "代码全部测试通过。\n",
    "\n",
    "此文档方便阅读，若需要复制粘贴可以在当前目录中查看 `dual_perception.py`\n",
    "\n",
    "下面实现**对偶感知机**"
   ]
  },
  {
   "cell_type": "code",
   "execution_count": 1,
   "metadata": {},
   "outputs": [],
   "source": [
    "import numpy as np\n",
    "import pandas as pd\n",
    "import matplotlib.pyplot as plt"
   ]
  },
  {
   "cell_type": "code",
   "execution_count": 13,
   "metadata": {},
   "outputs": [],
   "source": [
    "# 产生数据\n",
    "def generator_data():\n",
    "    data = {\n",
    "        'x': [],\n",
    "        'y': []\n",
    "    }\n",
    "    # 固定随机数\n",
    "    np.random.seed(1)\n",
    "    # 在 [-50, 50] * [-50, 50] 中产生 100 个点\n",
    "    x1 = np.random.randint(-50, 50, 50)\n",
    "    y1 = np.random.randint(-50, 50, 50)\n",
    "    # # 在 [50, 150] * [50, 150] 中产生 100 个点\n",
    "    x2 = np.random.randint(50, 150, 50)\n",
    "    y2 = np.random.randint(50, 150, 50)\n",
    "    # 拼接\n",
    "    point_x1 = np.hstack((x1, x2))\n",
    "    point_x2 = np.hstack((y1, y2))\n",
    "\n",
    "    data['x1'] = point_x1.reshape(1, 100)\n",
    "    data['x2'] = point_x2.reshape(1, 100)\n",
    "    # 标签\n",
    "    for i in range(100):\n",
    "        if(i < 50):\n",
    "            data['y'].append(-1)\n",
    "        else:\n",
    "            data['y'].append(1)\n",
    "\n",
    "    data['y'] = np.array(data['y']).reshape(1, 100)\n",
    "    plt.scatter(x1, y1)\n",
    "    plt.scatter(x2, y2)\n",
    "\n",
    "    return data"
   ]
  },
  {
   "cell_type": "code",
   "execution_count": 31,
   "metadata": {},
   "outputs": [
    {
     "data": {
      "image/png": "[encoded data removed]",
      "text/plain": [
       "<Figure size 432x288 with 1 Axes>"
      ]
     },
     "metadata": {
      "needs_background": "light"
     },
     "output_type": "display_data"
    }
   ],
   "source": [
    "data = generator_data()"
   ]
  },
  {
   "cell_type": "code",
   "execution_count": 55,
   "metadata": {},
   "outputs": [],
   "source": [
    "class DualPerceptron(object):\n",
    "    def load_data(self, data):\n",
    "        # 保存数据\n",
    "        self.data = data\n",
    "        \n",
    "    def init_args(self):\n",
    "        \"\"\"\n",
    "        初始化参数 注意 Gram 矩阵\n",
    "        拿书上例题 2.2 举例\n",
    "        \n",
    "        Gram 矩阵的计算方法是\n",
    "        x1.T * x1 + x2.T * x2\n",
    "        比如\n",
    "        [[1], [2], [3]] * [[1, 2, 3]]\n",
    "        Gram 矩阵的作用在 judge 函数中\n",
    "        \"\"\"\n",
    "        data = self.data\n",
    "        self.x1 = data['x1']\n",
    "        self.x2 = data['x2']\n",
    "        self.y = data['y']\n",
    "        self.alpha = np.zeros((1, self.x2.shape[1]))\n",
    "        self.b = 0\n",
    "        self.lr = 1\n",
    "        self.Gram = self.x1.T * self.x1 + self.x2.T * self.x2\n",
    "        \n",
    "        \n",
    "    def update(self, idx):\n",
    "        \"\"\"\n",
    "        更新参数\n",
    "        书上算法 2.2 (3)\n",
    "        \n",
    "        更新 bias \n",
    "        公式(2.15)\n",
    "        \"\"\"\n",
    "        self.alpha[0, idx] += self.lr\n",
    "        self.b += self.y[0, idx]\n",
    "\n",
    "    def judge(self, idx):\n",
    "        \"\"\"\n",
    "        判断是不是误分类点\n",
    "        书上算法 2.2 (3)\n",
    "        \n",
    "        重点在 Gram 矩阵的如何使用\n",
    "        \n",
    "        例题 2.2 (3) 误分类条件\n",
    "        把求和公式写完全，就可以看到 Gram 矩阵的作用\n",
    "        \"\"\"\n",
    "        y = self.y[0, idx]\n",
    "        alpha_y = self.alpha * self.y\n",
    "        \n",
    "        _l = self.Gram.shape[0]\n",
    "        _sum = np.sum(self.Gram[:, idx].reshape(1, _l) * alpha_y) + self.b\n",
    "        if y * _sum <= 0:\n",
    "            return True\n",
    "        return False\n",
    "    \n",
    "    def cal_weight(self):\n",
    "        \"\"\"\n",
    "        计算权值\n",
    "        书上公式 2.14 \n",
    "        \"\"\"\n",
    "        w = [0.0] * 2\n",
    "        w[0] = np.sum(self.alpha * self.y * self.x1)\n",
    "        w[1] = np.sum(self.alpha * self.y * self.x2)\n",
    "        \n",
    "        return w\n",
    "        \n",
    "    def train(self):\n",
    "        \"\"\"\n",
    "        训练 算法 2.2\n",
    "        \"\"\"\n",
    "        tran_len = self.x1.shape[1]\n",
    "        wrong_sample = True\n",
    "        wrong_sample_num = 0\n",
    "        while wrong_sample:\n",
    "            wrong_sample_num = 0\n",
    "            # 遍历所有样本点\n",
    "            for i in range(tran_len):\n",
    "                # 判断误分类点\n",
    "                if self.judge(i):\n",
    "                    # 更新参数\n",
    "                    self.update(i)\n",
    "                    wrong_sample_num += 1\n",
    "            if not wrong_sample_num:\n",
    "                wrong_sample = False\n",
    "        # 计算权值\n",
    "        w = self.cal_weight()\n",
    "        print('train done!')\n",
    "        return w, self.b"
   ]
  },
  {
   "cell_type": "code",
   "execution_count": 56,
   "metadata": {},
   "outputs": [
    {
     "name": "stdout",
     "output_type": "stream",
     "text": [
      "train done!\n"
     ]
    }
   ],
   "source": [
    "dp = DualPerceptron()\n",
    "dp.load_data(data)\n",
    "dp.init_args()\n",
    "w, b = dp.train()"
   ]
  },
  {
   "cell_type": "code",
   "execution_count": 57,
   "metadata": {},
   "outputs": [
    {
     "data": {
      "image/png": "[encoded data removed]",
      "text/plain": [
       "<Figure size 432x288 with 1 Axes>"
      ]
     },
     "metadata": {
      "needs_background": "light"
     },
     "output_type": "display_data"
    }
   ],
   "source": [
    "def draw_line(w1, w2, b):\n",
    "    y1 = b / -w1\n",
    "    x2 = b / -w2\n",
    "    plt.plot([0, y1], [x2, 0])\n",
    "\n",
    "draw_line(w[0], w[1], b)\n",
    "plt.scatter(data['x1'][0, 0:50], data['x2'][0, 0:50], color=\"orange\")\n",
    "plt.scatter(data['x1'][0, 50:], data['x2'][0, 50:], color=\"green\")\n",
    "plt.show()"
   ]
  },
  {
   "cell_type": "code",
   "execution_count": null,
   "metadata": {},
   "outputs": [],
   "source": []
  }
 ],
 "metadata": {
  "kernelspec": {
   "display_name": "Python 3",
   "language": "python",
   "name": "python3"
  },
  "language_info": {
   "codemirror_mode": {
    "name": "ipython",
    "version": 3
   },
   "file_extension": ".py",
   "mimetype": "text/x-python",
   "name": "python",
   "nbconvert_exporter": "python",
   "pygments_lexer": "ipython3",
   "version": "3.6.7"
  }
 },
 "nbformat": 4,
 "nbformat_minor": 2
}
