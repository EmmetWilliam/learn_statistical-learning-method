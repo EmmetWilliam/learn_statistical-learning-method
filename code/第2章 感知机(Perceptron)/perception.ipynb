{
 "cells": [
  {
   "cell_type": "markdown",
   "metadata": {},
   "source": [
    "\n",
    "# 第2章 感知机\n",
    "\n",
    "配置环境：python 3.6\n",
    "\n",
    "代码全部测试通过。\n",
    "\n",
    "此文档方便阅读，若需要复制粘贴可以在当前目录中查看`perception.py`\n"
   ]
  },
  {
   "cell_type": "code",
   "execution_count": 2,
   "metadata": {},
   "outputs": [],
   "source": [
    "import numpy as np\n",
    "import pandas as pd\n",
    "import matplotlib.pyplot as plt"
   ]
  },
  {
   "cell_type": "code",
   "execution_count": 3,
   "metadata": {},
   "outputs": [],
   "source": [
    "# 产生数据\n",
    "def generator_data():\n",
    "    data = {\n",
    "        'x': [],\n",
    "        'y': []\n",
    "    }\n",
    "    # 固定随机数     \n",
    "    np.random.seed(1)\n",
    "    # 在 [0, 100] * [0, 100] 产生 100 个点\n",
    "    x1 = np.random.randint(0, 100, 50)\n",
    "    y1 = np.random.randint(0, 100, 50)\n",
    "    # 在 [100, 200] * [100, 200] 产生 100 个点\n",
    "    x2 = np.random.randint(100, 200, 50)\n",
    "    y2 = np.random.randint(100, 200, 50)\n",
    "    \n",
    "    # 将两个数组结合在一起     \n",
    "    point_x = np.hstack((x1, x2))\n",
    "    point_y = np.hstack((y1, y2))\n",
    "    # 标明类别\n",
    "    for i in range(100):\n",
    "        data['x'].append((point_x[i], point_y[i]))\n",
    "        if(i < 50):\n",
    "            data['y'].append(-1)\n",
    "        else:\n",
    "            data['y'].append(1)\n",
    "    # 画图 plt.show() 之后才能画出来\n",
    "    plt.scatter(x1, y1)\n",
    "    plt.scatter(x2, y2)\n",
    "\n",
    "    return data"
   ]
  },
  {
   "cell_type": "code",
   "execution_count": 5,
   "metadata": {},
   "outputs": [
    {
     "data": {
      "image/png": "[encoded data removed]",
      "text/plain": [
       "<Figure size 432x288 with 1 Axes>"
      ]
     },
     "metadata": {
      "needs_background": "light"
     },
     "output_type": "display_data"
    }
   ],
   "source": [
    "data = generator_data()"
   ]
  },
  {
   "cell_type": "code",
   "execution_count": 31,
   "metadata": {},
   "outputs": [],
   "source": [
    "class Perceptron(object):\n",
    "    def load_data(self, data):\n",
    "        # 保存数据\n",
    "        self.data = data\n",
    "    # 初始化参数\n",
    "    def init_args(self):\n",
    "        data = self.data\n",
    "        # x 形如 (x1, x2)\n",
    "        self.x = data['x']\n",
    "        # 标签\n",
    "        self.y = data['y']\n",
    "        # 初始化权重\n",
    "        self.w = np.ones(2)\n",
    "        # 初始化偏置\n",
    "        self.b = 1\n",
    "        # 初始化学习率\n",
    "        self.lr = 0.1\n",
    "    \n",
    "    # 更新参数\n",
    "    def update(self, x, y):\n",
    "        # 书上公式 2.6 2.7\n",
    "        self.w += self.lr * np.dot(y, x)\n",
    "        self.b += self.lr * y\n",
    "    \n",
    "    # 判断是否是误分类点\n",
    "    def judge(self, x, y):\n",
    "        # 书上公式 2.1 (3)\n",
    "        w = self.w\n",
    "        t = np.dot(w, x) + self.b\n",
    "        if t * y <= 0:\n",
    "            return True\n",
    "        return False\n",
    "\n",
    "    def train(self):\n",
    "        \"\"\"\n",
    "        算法 2.1\n",
    "        \"\"\"\n",
    "        tran_len = len(self.x)\n",
    "        wrong_sample = True\n",
    "        wrong_sample_num = 0\n",
    "        while wrong_sample:\n",
    "            wrong_sample_num = 0\n",
    "            # 遍历所有的点\n",
    "            for i in range(tran_len):\n",
    "                # 判断是不是误分类点\n",
    "                if self.judge(self.x[i], self.y[i]):\n",
    "                    self.update(self.x[i], self.y[i])\n",
    "                    wrong_sample_num += 1\n",
    "            # 没有误分类点\n",
    "            if not wrong_sample_num:\n",
    "                wrong_sample = False\n",
    "        print('train done!')\n",
    "        return self.w, self.b"
   ]
  },
  {
   "cell_type": "code",
   "execution_count": 32,
   "metadata": {},
   "outputs": [
    {
     "name": "stdout",
     "output_type": "stream",
     "text": [
      "train done!\n"
     ]
    }
   ],
   "source": [
    "p = Perceptron()\n",
    "p.load_data(data)\n",
    "p.init_args()\n",
    "w, b = p.train()"
   ]
  },
  {
   "cell_type": "code",
   "execution_count": 35,
   "metadata": {},
   "outputs": [
    {
     "data": {
      "image/png": "[encoded data removed]",
      "text/plain": [
       "<Figure size 432x288 with 1 Axes>"
      ]
     },
     "metadata": {
      "needs_background": "light"
     },
     "output_type": "display_data"
    }
   ],
   "source": [
    "# 画出所有待分类的点\n",
    "plt.scatter([i[0] for i in data['x'][0:50]], [i[1] for i in data['x'][0:50]])\n",
    "plt.scatter([i[0] for i in data['x'][50:]], [i[1] for i in data['x'][50:]])\n",
    "\n",
    "# 画出分隔直线\n",
    "_min = min(data['x'], key=lambda x: x[0])[0]\n",
    "_max = max(data['x'], key=lambda x: x[0])[0]\n",
    "X = np.arange(_min, _max, 0.1)\n",
    "y = (-w[0]*X - b) / w[1]\n",
    "plt.plot(X, y)\n",
    "plt.show()"
   ]
  },
  {
   "cell_type": "code",
   "execution_count": null,
   "metadata": {},
   "outputs": [],
   "source": []
  }
 ],
 "metadata": {
  "kernelspec": {
   "display_name": "Python 3",
   "language": "python",
   "name": "python3"
  },
  "language_info": {
   "codemirror_mode": {
    "name": "ipython",
    "version": 3
   },
   "file_extension": ".py",
   "mimetype": "text/x-python",
   "name": "python",
   "nbconvert_exporter": "python",
   "pygments_lexer": "ipython3",
   "version": "3.6.7"
  }
 },
 "nbformat": 4,
 "nbformat_minor": 2
}
